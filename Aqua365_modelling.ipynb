{
 "cells": [
  {
   "cell_type": "code",
   "execution_count": null,
   "id": "negative-queue",
   "metadata": {
    "id": "negative-queue"
   },
   "outputs": [],
   "source": [
    "import numpy as np\n",
    "import pandas as pd\n",
    "import matplotlib.pyplot as plt\n",
    "import seaborn as sns\n",
    "import warnings\n",
    "warnings.filterwarnings(\"ignore\")"
   ]
  },
  {
   "cell_type": "code",
   "execution_count": null,
   "id": "local-survivor",
   "metadata": {
    "id": "local-survivor"
   },
   "outputs": [],
   "source": [
    "df=pd.read_csv(\"/content/Water_data_new.csv\", encoding= 'unicode_escape')"
   ]
  },
  {
   "cell_type": "code",
   "execution_count": null,
   "id": "aware-living",
   "metadata": {
    "id": "aware-living"
   },
   "outputs": [],
   "source": [
    "df=df.rename(columns={df.columns[4]: \"CONDUCTIVITY\"})"
   ]
  },
  {
   "cell_type": "code",
   "execution_count": null,
   "id": "adequate-module",
   "metadata": {
    "id": "adequate-module"
   },
   "outputs": [],
   "source": [
    "df['Temp']=pd.to_numeric(df['Temp'],errors='coerce')\n",
    "df['D.O. (mg/l)']=pd.to_numeric(df['D.O. (mg/l)'],errors='coerce')\n",
    "df['PH']=pd.to_numeric(df['PH'],errors='coerce')\n",
    "df['B.O.D. (mg/l)']=pd.to_numeric(df['B.O.D. (mg/l)'],errors='coerce')\n",
    "df['CONDUCTIVITY']=pd.to_numeric(df['CONDUCTIVITY'],errors='coerce')\n",
    "df['NITRATENAN N+ NITRITENANN (mg/l)']=pd.to_numeric(df['NITRATENAN N+ NITRITENANN (mg/l)'],errors='coerce')\n",
    "df['TOTAL COLIFORM (MPN/100ml)Mean']=pd.to_numeric(df['TOTAL COLIFORM (MPN/100ml)Mean'],errors='coerce')"
   ]
  },
  {
   "cell_type": "code",
   "execution_count": null,
   "id": "cYhFtwbZuj-t",
   "metadata": {
    "colab": {
     "base_uri": "https://localhost:8080/",
     "height": 425
    },
    "id": "cYhFtwbZuj-t",
    "outputId": "722afcdc-7118-4af6-e448-c9f153f477e3"
   },
   "outputs": [
    {
     "data": {
      "text/html": [
       "<div>\n",
       "<style scoped>\n",
       "    .dataframe tbody tr th:only-of-type {\n",
       "        vertical-align: middle;\n",
       "    }\n",
       "\n",
       "    .dataframe tbody tr th {\n",
       "        vertical-align: top;\n",
       "    }\n",
       "\n",
       "    .dataframe thead th {\n",
       "        text-align: right;\n",
       "    }\n",
       "</style>\n",
       "<table border=\"1\" class=\"dataframe\">\n",
       "  <thead>\n",
       "    <tr style=\"text-align: right;\">\n",
       "      <th></th>\n",
       "      <th>STATION CODE</th>\n",
       "      <th>Temp</th>\n",
       "      <th>D.O. (mg/l)</th>\n",
       "      <th>PH</th>\n",
       "      <th>CONDUCTIVITY</th>\n",
       "      <th>B.O.D. (mg/l)</th>\n",
       "      <th>NITRATENAN N+ NITRITENANN (mg/l)</th>\n",
       "      <th>FECAL COLIFORM (MPN/100ml)</th>\n",
       "      <th>TOTAL COLIFORM (MPN/100ml)Mean</th>\n",
       "      <th>year</th>\n",
       "    </tr>\n",
       "  </thead>\n",
       "  <tbody>\n",
       "    <tr>\n",
       "      <th>0</th>\n",
       "      <td>1393</td>\n",
       "      <td>30.6</td>\n",
       "      <td>6.7</td>\n",
       "      <td>7.5</td>\n",
       "      <td>203.0</td>\n",
       "      <td>NaN</td>\n",
       "      <td>0.100</td>\n",
       "      <td>11</td>\n",
       "      <td>27.0</td>\n",
       "      <td>2014</td>\n",
       "    </tr>\n",
       "    <tr>\n",
       "      <th>1</th>\n",
       "      <td>1399</td>\n",
       "      <td>29.8</td>\n",
       "      <td>5.7</td>\n",
       "      <td>7.2</td>\n",
       "      <td>189.0</td>\n",
       "      <td>2.0</td>\n",
       "      <td>0.200</td>\n",
       "      <td>4953</td>\n",
       "      <td>8391.0</td>\n",
       "      <td>2014</td>\n",
       "    </tr>\n",
       "    <tr>\n",
       "      <th>2</th>\n",
       "      <td>1475</td>\n",
       "      <td>29.5</td>\n",
       "      <td>6.3</td>\n",
       "      <td>6.9</td>\n",
       "      <td>179.0</td>\n",
       "      <td>1.7</td>\n",
       "      <td>0.100</td>\n",
       "      <td>3243</td>\n",
       "      <td>5330.0</td>\n",
       "      <td>2014</td>\n",
       "    </tr>\n",
       "    <tr>\n",
       "      <th>3</th>\n",
       "      <td>3181</td>\n",
       "      <td>29.7</td>\n",
       "      <td>5.8</td>\n",
       "      <td>6.9</td>\n",
       "      <td>64.0</td>\n",
       "      <td>3.8</td>\n",
       "      <td>0.500</td>\n",
       "      <td>5382</td>\n",
       "      <td>8443.0</td>\n",
       "      <td>2014</td>\n",
       "    </tr>\n",
       "    <tr>\n",
       "      <th>4</th>\n",
       "      <td>3182</td>\n",
       "      <td>29.5</td>\n",
       "      <td>5.8</td>\n",
       "      <td>7.3</td>\n",
       "      <td>83.0</td>\n",
       "      <td>1.9</td>\n",
       "      <td>0.400</td>\n",
       "      <td>3428</td>\n",
       "      <td>5500.0</td>\n",
       "      <td>2014</td>\n",
       "    </tr>\n",
       "    <tr>\n",
       "      <th>...</th>\n",
       "      <td>...</td>\n",
       "      <td>...</td>\n",
       "      <td>...</td>\n",
       "      <td>...</td>\n",
       "      <td>...</td>\n",
       "      <td>...</td>\n",
       "      <td>...</td>\n",
       "      <td>...</td>\n",
       "      <td>...</td>\n",
       "      <td>...</td>\n",
       "    </tr>\n",
       "    <tr>\n",
       "      <th>1986</th>\n",
       "      <td>1330</td>\n",
       "      <td>NaN</td>\n",
       "      <td>7.9</td>\n",
       "      <td>738.0</td>\n",
       "      <td>7.2</td>\n",
       "      <td>2.7</td>\n",
       "      <td>0.518</td>\n",
       "      <td>0.518</td>\n",
       "      <td>202.0</td>\n",
       "      <td>2003</td>\n",
       "    </tr>\n",
       "    <tr>\n",
       "      <th>1987</th>\n",
       "      <td>1450</td>\n",
       "      <td>29.0</td>\n",
       "      <td>7.5</td>\n",
       "      <td>585.0</td>\n",
       "      <td>6.3</td>\n",
       "      <td>2.6</td>\n",
       "      <td>0.155</td>\n",
       "      <td>0.155</td>\n",
       "      <td>315.0</td>\n",
       "      <td>2003</td>\n",
       "    </tr>\n",
       "    <tr>\n",
       "      <th>1988</th>\n",
       "      <td>1403</td>\n",
       "      <td>28.0</td>\n",
       "      <td>7.6</td>\n",
       "      <td>98.0</td>\n",
       "      <td>6.2</td>\n",
       "      <td>1.2</td>\n",
       "      <td>NaN</td>\n",
       "      <td>NAN</td>\n",
       "      <td>570.0</td>\n",
       "      <td>2003</td>\n",
       "    </tr>\n",
       "    <tr>\n",
       "      <th>1989</th>\n",
       "      <td>1404</td>\n",
       "      <td>28.0</td>\n",
       "      <td>7.7</td>\n",
       "      <td>91.0</td>\n",
       "      <td>6.5</td>\n",
       "      <td>1.3</td>\n",
       "      <td>NaN</td>\n",
       "      <td>NAN</td>\n",
       "      <td>562.0</td>\n",
       "      <td>2003</td>\n",
       "    </tr>\n",
       "    <tr>\n",
       "      <th>1990</th>\n",
       "      <td>1726</td>\n",
       "      <td>29.0</td>\n",
       "      <td>7.6</td>\n",
       "      <td>110.0</td>\n",
       "      <td>5.7</td>\n",
       "      <td>1.1</td>\n",
       "      <td>NaN</td>\n",
       "      <td>NAN</td>\n",
       "      <td>546.0</td>\n",
       "      <td>2003</td>\n",
       "    </tr>\n",
       "  </tbody>\n",
       "</table>\n",
       "<p>1991 rows × 10 columns</p>\n",
       "</div>"
      ],
      "text/plain": [
       "     STATION CODE  Temp  ...  TOTAL COLIFORM (MPN/100ml)Mean  year\n",
       "0            1393  30.6  ...                            27.0  2014\n",
       "1            1399  29.8  ...                          8391.0  2014\n",
       "2            1475  29.5  ...                          5330.0  2014\n",
       "3            3181  29.7  ...                          8443.0  2014\n",
       "4            3182  29.5  ...                          5500.0  2014\n",
       "...           ...   ...  ...                             ...   ...\n",
       "1986         1330   NaN  ...                           202.0  2003\n",
       "1987         1450  29.0  ...                           315.0  2003\n",
       "1988         1403  28.0  ...                           570.0  2003\n",
       "1989         1404  28.0  ...                           562.0  2003\n",
       "1990         1726  29.0  ...                           546.0  2003\n",
       "\n",
       "[1991 rows x 10 columns]"
      ]
     },
     "execution_count": 75,
     "metadata": {
      "tags": []
     },
     "output_type": "execute_result"
    }
   ],
   "source": [
    "df"
   ]
  },
  {
   "cell_type": "code",
   "execution_count": null,
   "id": "entitled-following",
   "metadata": {
    "colab": {
     "base_uri": "https://localhost:8080/"
    },
    "id": "entitled-following",
    "outputId": "7157fa41-e1e1-4ed3-8b8d-27ec17f0a4ca"
   },
   "outputs": [
    {
     "data": {
      "text/plain": [
       "dtype('float64')"
      ]
     },
     "execution_count": 76,
     "metadata": {
      "tags": []
     },
     "output_type": "execute_result"
    }
   ],
   "source": [
    "start=2\n",
    "end=1779\n",
    "station=df.iloc [start:end ,0]\n",
    "# location=df.iloc [start:end ,1]\n",
    "#state=df.iloc [start:end ,2]\n",
    "do= df.iloc [start:end ,2].astype(np.float64)\n",
    "value=0\n",
    "ph = df.iloc[ start:end,3]  \n",
    "co = df.iloc [start:end ,4].astype(np.float64)   \n",
    "  \n",
    "year=df.iloc[start:end,9]\n",
    "tc=df.iloc [2:end ,8].astype(np.float64)\n",
    "\n",
    "\n",
    "bod = df.iloc [start:end ,5].astype(np.float64)\n",
    "na= df.iloc [start:end ,6].astype(np.float64)\n",
    "na.dtype"
   ]
  },
  {
   "cell_type": "code",
   "execution_count": null,
   "id": "surprising-picnic",
   "metadata": {
    "id": "surprising-picnic"
   },
   "outputs": [],
   "source": [
    "df=pd.concat([station,do,ph,co,bod,na,tc,year],axis=1)\n",
    "df.columns = ['station','do','ph','co','bod','na','tc','year']"
   ]
  },
  {
   "cell_type": "code",
   "execution_count": null,
   "id": "p4bAmm0nvIBW",
   "metadata": {
    "colab": {
     "base_uri": "https://localhost:8080/"
    },
    "id": "p4bAmm0nvIBW",
    "outputId": "4a9a7f2c-e5d2-4694-9b22-c0f2cb266526"
   },
   "outputs": [
    {
     "data": {
      "text/plain": [
       "station      0\n",
       "do          27\n",
       "ph           5\n",
       "co          17\n",
       "bod         36\n",
       "na         171\n",
       "tc         119\n",
       "year         0\n",
       "dtype: int64"
      ]
     },
     "execution_count": 78,
     "metadata": {
      "tags": []
     },
     "output_type": "execute_result"
    }
   ],
   "source": [
    "df.isnull().sum()"
   ]
  },
  {
   "cell_type": "code",
   "execution_count": null,
   "id": "hundred-stockholm",
   "metadata": {
    "id": "hundred-stockholm"
   },
   "outputs": [],
   "source": [
    "df['npH']=df.ph.apply(lambda x: (100 if (8.5>=x>=7)  \n",
    "                                 else(80 if  (8.6>=x>=8.5) or (6.9>=x>=6.8) \n",
    "                                      else(60 if (8.8>=x>=8.6) or (6.8>=x>=6.7) \n",
    "                                          else(40 if (9>=x>=8.8) or (6.7>=x>=6.5)\n",
    "                                              else 0)))))"
   ]
  },
  {
   "cell_type": "code",
   "execution_count": null,
   "id": "abandoned-aerospace",
   "metadata": {
    "id": "abandoned-aerospace"
   },
   "outputs": [],
   "source": [
    "df['ndo']=df.do.apply(lambda x:(100 if (x>=6)  \n",
    "                                 else(80 if  (6>=x>=5.1) \n",
    "                                      else(60 if (5>=x>=4.1)\n",
    "                                          else(40 if (4>=x>=3) \n",
    "                                              else 0)))))"
   ]
  },
  {
   "cell_type": "code",
   "execution_count": null,
   "id": "rotary-monitor",
   "metadata": {
    "id": "rotary-monitor"
   },
   "outputs": [],
   "source": [
    "df['nco']=df.tc.apply(lambda x:(100 if (5>=x>=0)  \n",
    "                                 else(80 if  (50>=x>=5) \n",
    "                                      else(60 if (500>=x>=50)\n",
    "                                          else(40 if (10000>=x>=500) \n",
    "                                              else 0)))))"
   ]
  },
  {
   "cell_type": "code",
   "execution_count": null,
   "id": "floating-setting",
   "metadata": {
    "id": "floating-setting"
   },
   "outputs": [],
   "source": [
    "df['nbdo']=df.bod.apply(lambda x:(100 if (3>=x>=0)  \n",
    "                                 else(80 if  (6>=x>=3) \n",
    "                                      else(60 if (80>=x>=6)\n",
    "                                          else(40 if (125>=x>=80) \n",
    "                                              else 0)))))"
   ]
  },
  {
   "cell_type": "code",
   "execution_count": null,
   "id": "noble-amendment",
   "metadata": {
    "id": "noble-amendment"
   },
   "outputs": [],
   "source": [
    "df['nec']=df.co.apply(lambda x:(100 if (75>=x>=0)  \n",
    "                                 else(80 if  (150>=x>=75) \n",
    "                                      else(60 if (225>=x>=150)\n",
    "                                          else(40 if (300>=x>=225) \n",
    "                                              else 0)))))"
   ]
  },
  {
   "cell_type": "code",
   "execution_count": null,
   "id": "preliminary-casting",
   "metadata": {
    "id": "preliminary-casting"
   },
   "outputs": [],
   "source": [
    "df['nna']=df.na.apply(lambda x:(100 if (20>=x>=0)  \n",
    "                                 else(80 if  (50>=x>=20) \n",
    "                                      else(60 if (100>=x>=50)\n",
    "                                          else(40 if (200>=x>=100) \n",
    "                                              else 0)))))"
   ]
  },
  {
   "cell_type": "code",
   "execution_count": null,
   "id": "lesbian-sheet",
   "metadata": {
    "id": "lesbian-sheet"
   },
   "outputs": [],
   "source": [
    "df['wph']=df.npH * 0.165\n",
    "df['wdo']=df.ndo * 0.281\n",
    "df['wbdo']=df.nbdo * 0.234\n",
    "df['wec']=df.nec* 0.009\n",
    "df['wna']=df.nna * 0.028\n",
    "df['wco']=df.nco * 0.281\n",
    "df['year']=df['year']+6\n",
    "df['wqi']=df.wph+df.wdo+df.wbdo+df.wec+df.wna+df.wco "
   ]
  },
  {
   "cell_type": "code",
   "execution_count": null,
   "id": "TcrCBmk0ygZK",
   "metadata": {
    "id": "TcrCBmk0ygZK"
   },
   "outputs": [],
   "source": [
    "df1 = df[['year','wph', 'wdo', 'wbdo','wec','wna','wco','wqi']].copy()"
   ]
  },
  {
   "cell_type": "code",
   "execution_count": null,
   "id": "stone-tuition",
   "metadata": {
    "id": "stone-tuition"
   },
   "outputs": [],
   "source": [
    "ag=df.groupby('year')['wqi'].mean()"
   ]
  },
  {
   "cell_type": "code",
   "execution_count": null,
   "id": "grand-technical",
   "metadata": {
    "id": "grand-technical"
   },
   "outputs": [],
   "source": [
    "df=ag.reset_index(level=0,inplace=False)"
   ]
  },
  {
   "cell_type": "code",
   "execution_count": null,
   "id": "yQgYRa5jxPzP",
   "metadata": {
    "colab": {
     "base_uri": "https://localhost:8080/",
     "height": 685
    },
    "id": "yQgYRa5jxPzP",
    "outputId": "e8b0bdbd-8ab7-49f6-a34e-4b230994709b"
   },
   "outputs": [
    {
     "data": {
      "image/png": "[encoded data removed]",
      "text/plain": [
       "<Figure size 1440x720 with 1 Axes>"
      ]
     },
     "metadata": {
      "needs_background": "light",
      "tags": []
     },
     "output_type": "display_data"
    }
   ],
   "source": [
    "year=df['year'].values\n",
    "AQI=df['wqi'].values\n",
    "df['wqi']=pd.to_numeric(df['wqi'],errors='coerce')\n",
    "df['year']=pd.to_numeric(df['year'],errors='coerce')\n",
    "\n",
    "import matplotlib.pyplot as plt\n",
    "plt.rcParams['figure.figsize'] = (20.0, 10.0)\n",
    "from mpl_toolkits.mplot3d import Axes3D\n",
    "fig = plt.figure()\n",
    "ax = Axes3D(fig)\n",
    "ax.scatter(year,AQI, color='red')\n",
    "plt.show()"
   ]
  },
  {
   "cell_type": "code",
   "execution_count": null,
   "id": "skilled-peter",
   "metadata": {
    "id": "skilled-peter"
   },
   "outputs": [],
   "source": [
    "df = df[np.isfinite(df['wqi'])]"
   ]
  },
  {
   "cell_type": "code",
   "execution_count": null,
   "id": "eUn_DuCPwQ5g",
   "metadata": {
    "colab": {
     "base_uri": "https://localhost:8080/",
     "height": 592
    },
    "id": "eUn_DuCPwQ5g",
    "outputId": "637b238a-69ed-4eaf-c14e-503ab0ca3eca"
   },
   "outputs": [
    {
     "data": {
      "image/png": "[encoded data removed]",
      "text/plain": [
       "<Figure size 1440x720 with 1 Axes>"
      ]
     },
     "metadata": {
      "needs_background": "light",
      "tags": []
     },
     "output_type": "display_data"
    }
   ],
   "source": [
    "cols =['year']\n",
    "y = df['wqi']\n",
    "x=df[cols]\n",
    "\n",
    "plt.scatter(x,y)\n",
    "plt.show()"
   ]
  },
  {
   "cell_type": "code",
   "execution_count": null,
   "id": "6NTPEjrbwWLG",
   "metadata": {
    "colab": {
     "base_uri": "https://localhost:8080/",
     "height": 388
    },
    "id": "6NTPEjrbwWLG",
    "outputId": "d651291b-7393-479d-8acc-f49bd0cf4a6b"
   },
   "outputs": [
    {
     "data": {
      "image/png": "[encoded data removed]",
      "text/plain": [
       "<Figure size 1080x432 with 1 Axes>"
      ]
     },
     "metadata": {
      "needs_background": "light",
      "tags": []
     },
     "output_type": "display_data"
    }
   ],
   "source": [
    "import matplotlib.pyplot as plt\n",
    "df=df.set_index('year')\n",
    "df.plot(figsize=(15,6))\n",
    "plt.show()"
   ]
  },
  {
   "cell_type": "code",
   "execution_count": null,
   "id": "exceptional-sunrise",
   "metadata": {
    "id": "exceptional-sunrise"
   },
   "outputs": [],
   "source": [
    "from sklearn import neighbors,datasets\n",
    "df=df.reset_index(level=0,inplace=False)"
   ]
  },
  {
   "cell_type": "code",
   "execution_count": null,
   "id": "specific-claim",
   "metadata": {
    "id": "specific-claim"
   },
   "outputs": [],
   "source": [
    "from sklearn import linear_model\n",
    "from sklearn.model_selection import train_test_split"
   ]
  },
  {
   "cell_type": "code",
   "execution_count": null,
   "id": "gross-colors",
   "metadata": {
    "id": "gross-colors"
   },
   "outputs": [],
   "source": [
    "cols =['year']"
   ]
  },
  {
   "cell_type": "code",
   "execution_count": null,
   "id": "steady-covering",
   "metadata": {
    "id": "steady-covering"
   },
   "outputs": [],
   "source": [
    "y = df['wqi']\n",
    "x=df[cols]"
   ]
  },
  {
   "cell_type": "code",
   "execution_count": null,
   "id": "possible-october",
   "metadata": {
    "id": "possible-october"
   },
   "outputs": [],
   "source": [
    "reg=linear_model.LinearRegression()\n",
    "x_train,x_test,y_train,y_test=train_test_split(x,y,test_size=0.2,random_state=4)"
   ]
  },
  {
   "cell_type": "code",
   "execution_count": null,
   "id": "fantastic-crime",
   "metadata": {
    "colab": {
     "base_uri": "https://localhost:8080/"
    },
    "id": "fantastic-crime",
    "outputId": "bdeba3ee-f6ec-46be-df7e-a8c938c02412"
   },
   "outputs": [
    {
     "data": {
      "text/plain": [
       "LinearRegression(copy_X=True, fit_intercept=True, n_jobs=None, normalize=False)"
      ]
     },
     "execution_count": 98,
     "metadata": {
      "tags": []
     },
     "output_type": "execute_result"
    }
   ],
   "source": [
    "reg.fit(x_train,y_train)"
   ]
  },
  {
   "cell_type": "code",
   "execution_count": null,
   "id": "seeing-peter",
   "metadata": {
    "id": "seeing-peter"
   },
   "outputs": [],
   "source": [
    "a=reg.predict(x_test)"
   ]
  },
  {
   "cell_type": "code",
   "execution_count": null,
   "id": "touched-franklin",
   "metadata": {
    "colab": {
     "base_uri": "https://localhost:8080/"
    },
    "id": "touched-franklin",
    "outputId": "3f64cc88-9d3c-4b1d-a54f-331b97039a72"
   },
   "outputs": [
    {
     "name": "stdout",
     "output_type": "stream",
     "text": [
      "mse:0.03\n"
     ]
    }
   ],
   "source": [
    "from sklearn.metrics import mean_squared_error\n",
    "print('mse:%.2f'%mean_squared_error(y_test,a))"
   ]
  },
  {
   "cell_type": "code",
   "execution_count": null,
   "id": "buried-rider",
   "metadata": {
    "id": "buried-rider"
   },
   "outputs": [],
   "source": [
    "dt = pd.DataFrame({'Actual': y_test, 'Predicted': a}) "
   ]
  },
  {
   "cell_type": "code",
   "execution_count": null,
   "id": "congressional-county",
   "metadata": {
    "id": "congressional-county"
   },
   "outputs": [],
   "source": [
    "x = (x - x.mean()) / x.std()\n",
    "x = np.c_[np.ones(x.shape[0]), x]\n"
   ]
  },
  {
   "cell_type": "code",
   "execution_count": null,
   "id": "educated-maple",
   "metadata": {
    "colab": {
     "base_uri": "https://localhost:8080/"
    },
    "id": "educated-maple",
    "outputId": "32e722cc-14db-4c99-b5b8-cdc799cdd6b2"
   },
   "outputs": [
    {
     "name": "stdout",
     "output_type": "stream",
     "text": [
      "Gradient Descent: 74.63, 2.01\n"
     ]
    }
   ],
   "source": [
    "alpha = 0.1 #Step size\n",
    "iterations = 3000 #No. of iterations\n",
    "m = y.size #No. of data points\n",
    "np.random.seed(4) #Setting the seed\n",
    "theta = np.random.rand(2) #Picking some random values to start with\n",
    "\n",
    "def gradient_descent(x, y, theta, iterations, alpha):\n",
    "    past_costs = []\n",
    "    past_thetas = [theta]\n",
    "    for i in range(iterations):\n",
    "        prediction = np.dot(x, theta)\n",
    "        error = prediction - y\n",
    "        cost = 1/(2*m) * np.dot(error.T, error)\n",
    "        past_costs.append(cost)\n",
    "        theta = theta - (alpha * (1/m) * np.dot(x.T, error))\n",
    "        past_thetas.append(theta)\n",
    "        \n",
    "    return past_thetas, past_costs\n",
    "\n",
    "past_thetas, past_costs = gradient_descent(x, y, theta, iterations, alpha)\n",
    "theta = past_thetas[-1]\n",
    "\n",
    "#Print the results...\n",
    "print(\"Gradient Descent: {:.2f}, {:.2f}\".format(theta[0], theta[1]))"
   ]
  },
  {
   "cell_type": "code",
   "execution_count": null,
   "id": "oTz-5Acyvcjz",
   "metadata": {
    "colab": {
     "base_uri": "https://localhost:8080/",
     "height": 621
    },
    "id": "oTz-5Acyvcjz",
    "outputId": "c7975060-b575-4052-8021-6f04ed47ed7f"
   },
   "outputs": [
    {
     "data": {
      "image/png": "[encoded data removed]",
      "text/plain": [
       "<Figure size 1440x720 with 1 Axes>"
      ]
     },
     "metadata": {
      "needs_background": "light",
      "tags": []
     },
     "output_type": "display_data"
    }
   ],
   "source": [
    "plt.title('Cost Function J')\n",
    "plt.xlabel('No. of iterations')\n",
    "plt.ylabel('Cost')\n",
    "plt.plot(past_costs)\n",
    "plt.show()"
   ]
  },
  {
   "cell_type": "code",
   "execution_count": null,
   "id": "oriental-export",
   "metadata": {
    "id": "oriental-export"
   },
   "outputs": [],
   "source": [
    "import numpy as np\n",
    "newB=[74.76, 2.13]\n",
    "\n",
    "def rmse(y,y_pred):\n",
    "    rmse= np.sqrt(sum(y-y_pred))\n",
    "    return rmse\n",
    "   \n",
    "\n",
    "y_pred=x.dot(newB)\n",
    "\n",
    "dt = pd.DataFrame({'Actual': y, 'Predicted': y_pred})  \n",
    "dt=pd.concat([df, dt], axis=1)"
   ]
  },
  {
   "cell_type": "code",
   "execution_count": null,
   "id": "chronic-tennessee",
   "metadata": {
    "colab": {
     "base_uri": "https://localhost:8080/"
    },
    "id": "chronic-tennessee",
    "outputId": "66c7c865-9471-4a5c-ed85-e9aafe8f9f3d"
   },
   "outputs": [
    {
     "name": "stdout",
     "output_type": "stream",
     "text": [
      "1.1987755149740886\n"
     ]
    }
   ],
   "source": [
    "from sklearn import metrics\n",
    "print(np.sqrt(metrics.mean_squared_error(y,y_pred)))"
   ]
  },
  {
   "cell_type": "code",
   "execution_count": null,
   "id": "S7ezJ7ImvjH5",
   "metadata": {
    "colab": {
     "base_uri": "https://localhost:8080/",
     "height": 607
    },
    "id": "S7ezJ7ImvjH5",
    "outputId": "51f9f0d3-7b28-46c6-836a-7a0a510a267b"
   },
   "outputs": [
    {
     "data": {
      "image/png": "[encoded data removed]",
      "text/plain": [
       "<Figure size 1440x720 with 1 Axes>"
      ]
     },
     "metadata": {
      "needs_background": "light",
      "tags": []
     },
     "output_type": "display_data"
    }
   ],
   "source": [
    "x_axis=dt.year\n",
    "y_axis=dt.Actual\n",
    "y1_axis=dt.Predicted\n",
    "plt.scatter(x_axis,y_axis)\n",
    "plt.plot(x_axis,y1_axis,color='r')\n",
    "plt.title(\"linear regression\")\n",
    "\n",
    "plt.show()"
   ]
  },
  {
   "cell_type": "code",
   "execution_count": null,
   "id": "proper-springfield",
   "metadata": {
    "id": "proper-springfield"
   },
   "outputs": [],
   "source": [
    "dfg= df1.groupby(\"year\").mean()"
   ]
  },
  {
   "cell_type": "code",
   "execution_count": null,
   "id": "entertaining-complexity",
   "metadata": {
    "colab": {
     "base_uri": "https://localhost:8080/",
     "height": 318
    },
    "id": "entertaining-complexity",
    "outputId": "c763969f-ee61-4f25-8cdd-92371feb6593"
   },
   "outputs": [
    {
     "data": {
      "text/html": [
       "<div>\n",
       "<style scoped>\n",
       "    .dataframe tbody tr th:only-of-type {\n",
       "        vertical-align: middle;\n",
       "    }\n",
       "\n",
       "    .dataframe tbody tr th {\n",
       "        vertical-align: top;\n",
       "    }\n",
       "\n",
       "    .dataframe thead th {\n",
       "        text-align: right;\n",
       "    }\n",
       "</style>\n",
       "<table border=\"1\" class=\"dataframe\">\n",
       "  <thead>\n",
       "    <tr style=\"text-align: right;\">\n",
       "      <th></th>\n",
       "      <th>year</th>\n",
       "      <th>wph</th>\n",
       "      <th>wdo</th>\n",
       "      <th>wbdo</th>\n",
       "      <th>wec</th>\n",
       "      <th>wna</th>\n",
       "      <th>wco</th>\n",
       "      <th>wqi</th>\n",
       "    </tr>\n",
       "  </thead>\n",
       "  <tbody>\n",
       "    <tr>\n",
       "      <th>0</th>\n",
       "      <td>2012</td>\n",
       "      <td>13.458824</td>\n",
       "      <td>23.967647</td>\n",
       "      <td>19.500000</td>\n",
       "      <td>0.264706</td>\n",
       "      <td>2.657255</td>\n",
       "      <td>11.460392</td>\n",
       "      <td>71.308824</td>\n",
       "    </tr>\n",
       "    <tr>\n",
       "      <th>1</th>\n",
       "      <td>2013</td>\n",
       "      <td>13.750000</td>\n",
       "      <td>24.634333</td>\n",
       "      <td>20.514000</td>\n",
       "      <td>0.405000</td>\n",
       "      <td>2.286667</td>\n",
       "      <td>10.959000</td>\n",
       "      <td>72.549000</td>\n",
       "    </tr>\n",
       "    <tr>\n",
       "      <th>2</th>\n",
       "      <td>2014</td>\n",
       "      <td>12.535849</td>\n",
       "      <td>24.105912</td>\n",
       "      <td>20.868679</td>\n",
       "      <td>0.457358</td>\n",
       "      <td>2.479497</td>\n",
       "      <td>12.123648</td>\n",
       "      <td>72.570943</td>\n",
       "    </tr>\n",
       "    <tr>\n",
       "      <th>3</th>\n",
       "      <td>2015</td>\n",
       "      <td>13.163536</td>\n",
       "      <td>24.622431</td>\n",
       "      <td>20.866077</td>\n",
       "      <td>0.305304</td>\n",
       "      <td>2.490608</td>\n",
       "      <td>12.637238</td>\n",
       "      <td>74.085193</td>\n",
       "    </tr>\n",
       "    <tr>\n",
       "      <th>4</th>\n",
       "      <td>2016</td>\n",
       "      <td>13.129787</td>\n",
       "      <td>25.439468</td>\n",
       "      <td>20.362979</td>\n",
       "      <td>0.423191</td>\n",
       "      <td>2.588511</td>\n",
       "      <td>12.704787</td>\n",
       "      <td>74.648723</td>\n",
       "    </tr>\n",
       "    <tr>\n",
       "      <th>5</th>\n",
       "      <td>2017</td>\n",
       "      <td>14.542857</td>\n",
       "      <td>24.791255</td>\n",
       "      <td>20.198961</td>\n",
       "      <td>0.417662</td>\n",
       "      <td>2.266667</td>\n",
       "      <td>13.429610</td>\n",
       "      <td>75.647013</td>\n",
       "    </tr>\n",
       "    <tr>\n",
       "      <th>6</th>\n",
       "      <td>2018</td>\n",
       "      <td>15.222945</td>\n",
       "      <td>25.482466</td>\n",
       "      <td>21.300411</td>\n",
       "      <td>0.486986</td>\n",
       "      <td>2.368493</td>\n",
       "      <td>14.107740</td>\n",
       "      <td>78.969041</td>\n",
       "    </tr>\n",
       "    <tr>\n",
       "      <th>7</th>\n",
       "      <td>2019</td>\n",
       "      <td>14.186207</td>\n",
       "      <td>24.288736</td>\n",
       "      <td>20.638621</td>\n",
       "      <td>0.466897</td>\n",
       "      <td>2.767816</td>\n",
       "      <td>12.661149</td>\n",
       "      <td>75.009425</td>\n",
       "    </tr>\n",
       "    <tr>\n",
       "      <th>8</th>\n",
       "      <td>2020</td>\n",
       "      <td>14.653086</td>\n",
       "      <td>24.468971</td>\n",
       "      <td>20.838519</td>\n",
       "      <td>0.464444</td>\n",
       "      <td>2.786173</td>\n",
       "      <td>13.668395</td>\n",
       "      <td>76.879588</td>\n",
       "    </tr>\n",
       "  </tbody>\n",
       "</table>\n",
       "</div>"
      ],
      "text/plain": [
       "   year        wph        wdo  ...       wna        wco        wqi\n",
       "0  2012  13.458824  23.967647  ...  2.657255  11.460392  71.308824\n",
       "1  2013  13.750000  24.634333  ...  2.286667  10.959000  72.549000\n",
       "2  2014  12.535849  24.105912  ...  2.479497  12.123648  72.570943\n",
       "3  2015  13.163536  24.622431  ...  2.490608  12.637238  74.085193\n",
       "4  2016  13.129787  25.439468  ...  2.588511  12.704787  74.648723\n",
       "5  2017  14.542857  24.791255  ...  2.266667  13.429610  75.647013\n",
       "6  2018  15.222945  25.482466  ...  2.368493  14.107740  78.969041\n",
       "7  2019  14.186207  24.288736  ...  2.767816  12.661149  75.009425\n",
       "8  2020  14.653086  24.468971  ...  2.786173  13.668395  76.879588\n",
       "\n",
       "[9 rows x 8 columns]"
      ]
     },
     "execution_count": 109,
     "metadata": {
      "tags": []
     },
     "output_type": "execute_result"
    }
   ],
   "source": [
    "dfg=dfg.reset_index(level=0,inplace=False)\n",
    "dfg"
   ]
  },
  {
   "cell_type": "code",
   "execution_count": null,
   "id": "k68Y8IiM1vpt",
   "metadata": {
    "colab": {
     "base_uri": "https://localhost:8080/",
     "height": 318
    },
    "id": "k68Y8IiM1vpt",
    "outputId": "5ea2ac2b-688c-410e-b42c-b38ee3955d40"
   },
   "outputs": [
    {
     "data": {
      "text/html": [
       "<div>\n",
       "<style scoped>\n",
       "    .dataframe tbody tr th:only-of-type {\n",
       "        vertical-align: middle;\n",
       "    }\n",
       "\n",
       "    .dataframe tbody tr th {\n",
       "        vertical-align: top;\n",
       "    }\n",
       "\n",
       "    .dataframe thead th {\n",
       "        text-align: right;\n",
       "    }\n",
       "</style>\n",
       "<table border=\"1\" class=\"dataframe\">\n",
       "  <thead>\n",
       "    <tr style=\"text-align: right;\">\n",
       "      <th></th>\n",
       "      <th>year</th>\n",
       "      <th>wph</th>\n",
       "      <th>wdo</th>\n",
       "      <th>wbdo</th>\n",
       "      <th>wec</th>\n",
       "      <th>wna</th>\n",
       "      <th>wco</th>\n",
       "      <th>wqi</th>\n",
       "    </tr>\n",
       "  </thead>\n",
       "  <tbody>\n",
       "    <tr>\n",
       "      <th>0</th>\n",
       "      <td>2012</td>\n",
       "      <td>13.458824</td>\n",
       "      <td>23.967647</td>\n",
       "      <td>19.500000</td>\n",
       "      <td>0.264706</td>\n",
       "      <td>2.657255</td>\n",
       "      <td>11.460392</td>\n",
       "      <td>71.308824</td>\n",
       "    </tr>\n",
       "    <tr>\n",
       "      <th>1</th>\n",
       "      <td>2013</td>\n",
       "      <td>13.750000</td>\n",
       "      <td>24.634333</td>\n",
       "      <td>20.514000</td>\n",
       "      <td>0.405000</td>\n",
       "      <td>2.286667</td>\n",
       "      <td>10.959000</td>\n",
       "      <td>72.549000</td>\n",
       "    </tr>\n",
       "    <tr>\n",
       "      <th>2</th>\n",
       "      <td>2014</td>\n",
       "      <td>12.535849</td>\n",
       "      <td>24.105912</td>\n",
       "      <td>20.868679</td>\n",
       "      <td>0.457358</td>\n",
       "      <td>2.479497</td>\n",
       "      <td>12.123648</td>\n",
       "      <td>72.570943</td>\n",
       "    </tr>\n",
       "    <tr>\n",
       "      <th>3</th>\n",
       "      <td>2015</td>\n",
       "      <td>13.163536</td>\n",
       "      <td>24.622431</td>\n",
       "      <td>20.866077</td>\n",
       "      <td>0.305304</td>\n",
       "      <td>2.490608</td>\n",
       "      <td>12.637238</td>\n",
       "      <td>74.085193</td>\n",
       "    </tr>\n",
       "    <tr>\n",
       "      <th>4</th>\n",
       "      <td>2016</td>\n",
       "      <td>13.129787</td>\n",
       "      <td>25.439468</td>\n",
       "      <td>20.362979</td>\n",
       "      <td>0.423191</td>\n",
       "      <td>2.588511</td>\n",
       "      <td>12.704787</td>\n",
       "      <td>74.648723</td>\n",
       "    </tr>\n",
       "    <tr>\n",
       "      <th>5</th>\n",
       "      <td>2017</td>\n",
       "      <td>14.542857</td>\n",
       "      <td>24.791255</td>\n",
       "      <td>20.198961</td>\n",
       "      <td>0.417662</td>\n",
       "      <td>2.266667</td>\n",
       "      <td>13.429610</td>\n",
       "      <td>75.647013</td>\n",
       "    </tr>\n",
       "    <tr>\n",
       "      <th>6</th>\n",
       "      <td>2018</td>\n",
       "      <td>15.222945</td>\n",
       "      <td>25.482466</td>\n",
       "      <td>21.300411</td>\n",
       "      <td>0.486986</td>\n",
       "      <td>2.368493</td>\n",
       "      <td>14.107740</td>\n",
       "      <td>78.969041</td>\n",
       "    </tr>\n",
       "    <tr>\n",
       "      <th>7</th>\n",
       "      <td>2019</td>\n",
       "      <td>14.186207</td>\n",
       "      <td>24.288736</td>\n",
       "      <td>20.638621</td>\n",
       "      <td>0.466897</td>\n",
       "      <td>2.767816</td>\n",
       "      <td>12.661149</td>\n",
       "      <td>75.009425</td>\n",
       "    </tr>\n",
       "    <tr>\n",
       "      <th>8</th>\n",
       "      <td>2020</td>\n",
       "      <td>14.653086</td>\n",
       "      <td>24.468971</td>\n",
       "      <td>20.838519</td>\n",
       "      <td>0.464444</td>\n",
       "      <td>2.786173</td>\n",
       "      <td>13.668395</td>\n",
       "      <td>76.879588</td>\n",
       "    </tr>\n",
       "  </tbody>\n",
       "</table>\n",
       "</div>"
      ],
      "text/plain": [
       "   year        wph        wdo  ...       wna        wco        wqi\n",
       "0  2012  13.458824  23.967647  ...  2.657255  11.460392  71.308824\n",
       "1  2013  13.750000  24.634333  ...  2.286667  10.959000  72.549000\n",
       "2  2014  12.535849  24.105912  ...  2.479497  12.123648  72.570943\n",
       "3  2015  13.163536  24.622431  ...  2.490608  12.637238  74.085193\n",
       "4  2016  13.129787  25.439468  ...  2.588511  12.704787  74.648723\n",
       "5  2017  14.542857  24.791255  ...  2.266667  13.429610  75.647013\n",
       "6  2018  15.222945  25.482466  ...  2.368493  14.107740  78.969041\n",
       "7  2019  14.186207  24.288736  ...  2.767816  12.661149  75.009425\n",
       "8  2020  14.653086  24.468971  ...  2.786173  13.668395  76.879588\n",
       "\n",
       "[9 rows x 8 columns]"
      ]
     },
     "execution_count": 110,
     "metadata": {
      "tags": []
     },
     "output_type": "execute_result"
    }
   ],
   "source": [
    "dfg"
   ]
  },
  {
   "cell_type": "code",
   "execution_count": null,
   "id": "4sN5HlVezVBW",
   "metadata": {
    "id": "4sN5HlVezVBW"
   },
   "outputs": [],
   "source": [
    "X=dfg.iloc[: , 1:-1]\n",
    "Y=dfg.iloc[ : ,-1 ]"
   ]
  },
  {
   "cell_type": "code",
   "execution_count": null,
   "id": "PbhpGjbFzpWt",
   "metadata": {
    "colab": {
     "base_uri": "https://localhost:8080/"
    },
    "id": "PbhpGjbFzpWt",
    "outputId": "3585c163-3864-4d9e-b189-8cd24b6e82e1"
   },
   "outputs": [
    {
     "data": {
      "text/plain": [
       "0    71.308824\n",
       "1    72.549000\n",
       "2    72.570943\n",
       "3    74.085193\n",
       "4    74.648723\n",
       "5    75.647013\n",
       "6    78.969041\n",
       "7    75.009425\n",
       "8    76.879588\n",
       "Name: wqi, dtype: float64"
      ]
     },
     "execution_count": 112,
     "metadata": {
      "tags": []
     },
     "output_type": "execute_result"
    }
   ],
   "source": [
    "Y"
   ]
  },
  {
   "cell_type": "code",
   "execution_count": null,
   "id": "e-QlNAroXwIX",
   "metadata": {
    "colab": {
     "base_uri": "https://localhost:8080/"
    },
    "id": "e-QlNAroXwIX",
    "outputId": "ecdd0c4f-3cbd-4356-dbe6-d29bce031df6"
   },
   "outputs": [
    {
     "name": "stdout",
     "output_type": "stream",
     "text": [
      "[00:26:11] WARNING: /workspace/src/objective/regression_obj.cu:152: reg:linear is now deprecated in favor of reg:squarederror.\n",
      "RMSE :  0.504078\n"
     ]
    }
   ],
   "source": [
    "import xgboost as xg\n",
    "from sklearn.metrics import mean_squared_error as MSE\n",
    "\n",
    "x_train1, x_test1, y_train1, y_test1 = train_test_split(X, Y, \n",
    "                      test_size = 0.2, random_state = 50)\n",
    "  \n",
    "\n",
    "train_dmatrix = xg.DMatrix(data = x_train1, label = y_train1)\n",
    "test_dmatrix = xg.DMatrix(data = x_test1, label = y_test1)\n",
    "  \n",
    "\n",
    "param = {\"booster\":\"gblinear\", \"objective\":\"reg:linear\"}\n",
    "  \n",
    "xgb_r = xg.train(params = param, dtrain = train_dmatrix, num_boost_round = 10)\n",
    "pred1 = xgb_r.predict(test_dmatrix)\n",
    "  \n",
    "# RMSE Computation\n",
    "rmse1 = np.sqrt(MSE(y_test1, pred1))\n",
    "print(\"RMSE : % f\" %(rmse1))"
   ]
  },
  {
   "cell_type": "code",
   "execution_count": null,
   "id": "Sa5Z6mLU3pg2",
   "metadata": {
    "colab": {
     "base_uri": "https://localhost:8080/",
     "height": 625
    },
    "id": "Sa5Z6mLU3pg2",
    "outputId": "6f1f63f2-83bc-4284-f9fb-3b0391e624bf"
   },
   "outputs": [
    {
     "data": {
      "image/png": "[encoded data removed]",
      "text/plain": [
       "<Figure size 1440x720 with 1 Axes>"
      ]
     },
     "metadata": {
      "needs_background": "light",
      "tags": []
     },
     "output_type": "display_data"
    },
    {
     "data": {
      "text/plain": [
       "<Figure size 1440x720 with 0 Axes>"
      ]
     },
     "metadata": {
      "tags": []
     },
     "output_type": "display_data"
    }
   ],
   "source": [
    "df_dmatrix=xg.DMatrix(data=X)\n",
    "y_pred1= xgb_r.predict(df_dmatrix)\n",
    "df1=df1.groupby([\"year\"]).mean()\n",
    "df1=df1.reset_index(level=0,inplace=False)\n",
    "df4 = pd.DataFrame({'Actual': y, 'Predicted':y_pred1 })\n",
    "df4['year']=df1[['year']]\n",
    "df4=df4.groupby([\"year\"]).mean()\n",
    "df4=df4.reset_index(level=0,inplace=False)\n",
    "\n",
    "x_axis=df4.year\n",
    "y_axis=df4.Actual\n",
    "y1_axis=df4.Predicted\n",
    "plt.scatter(x_axis,y_axis)\n",
    "plt.plot(x_axis,y1_axis,color='r')\n",
    "plt.title(\"xgboost\")\n",
    "plt.figure(figsize=(20,10))\n",
    "plt.show()"
   ]
  },
  {
   "cell_type": "code",
   "execution_count": null,
   "id": "pressing-pennsylvania",
   "metadata": {
    "id": "pressing-pennsylvania"
   },
   "outputs": [],
   "source": [
    "dt=dt.drop(columns=['wqi'])"
   ]
  },
  {
   "cell_type": "code",
   "execution_count": null,
   "id": "sorted-chassis",
   "metadata": {
    "id": "sorted-chassis"
   },
   "outputs": [],
   "source": [
    "y_actual=dt['Actual'].to_numpy()"
   ]
  },
  {
   "cell_type": "code",
   "execution_count": null,
   "id": "-hsDxvkcTRBJ",
   "metadata": {
    "id": "-hsDxvkcTRBJ"
   },
   "outputs": [],
   "source": [
    "import pmdarima as pm"
   ]
  },
  {
   "cell_type": "code",
   "execution_count": null,
   "id": "talented-accordance",
   "metadata": {
    "colab": {
     "base_uri": "https://localhost:8080/"
    },
    "id": "talented-accordance",
    "outputId": "1aa059c3-ec05-4ca1-b51b-ce29169efb6b"
   },
   "outputs": [
    {
     "name": "stdout",
     "output_type": "stream",
     "text": [
      "Performing stepwise search to minimize aic\n",
      " ARIMA(1,0,1)(0,0,0)[0]             : AIC=78.169, Time=0.06 sec\n",
      " ARIMA(0,0,0)(0,0,0)[0]             : AIC=105.175, Time=0.01 sec\n",
      " ARIMA(1,0,0)(0,0,0)[0]             : AIC=71.049, Time=0.02 sec\n",
      " ARIMA(0,0,1)(0,0,0)[0]             : AIC=inf, Time=0.03 sec\n",
      " ARIMA(2,0,0)(0,0,0)[0]             : AIC=inf, Time=0.04 sec\n",
      " ARIMA(2,0,1)(0,0,0)[0]             : AIC=63.139, Time=0.04 sec\n",
      " ARIMA(3,0,1)(0,0,0)[0]             : AIC=96.499, Time=0.04 sec\n",
      " ARIMA(2,0,2)(0,0,0)[0]             : AIC=10066598.586, Time=0.08 sec\n",
      " ARIMA(1,0,2)(0,0,0)[0]             : AIC=10100669.321, Time=0.06 sec\n",
      " ARIMA(3,0,0)(0,0,0)[0]             : AIC=inf, Time=0.03 sec\n",
      " ARIMA(3,0,2)(0,0,0)[0]             : AIC=10042033.617, Time=0.10 sec\n",
      " ARIMA(2,0,1)(0,0,0)[0] intercept   : AIC=47.237, Time=0.06 sec\n",
      " ARIMA(1,0,1)(0,0,0)[0] intercept   : AIC=49.111, Time=0.04 sec\n",
      " ARIMA(2,0,0)(0,0,0)[0] intercept   : AIC=45.016, Time=0.04 sec\n",
      " ARIMA(1,0,0)(0,0,0)[0] intercept   : AIC=43.507, Time=0.03 sec\n",
      " ARIMA(0,0,0)(0,0,0)[0] intercept   : AIC=44.019, Time=0.01 sec\n",
      " ARIMA(0,0,1)(0,0,0)[0] intercept   : AIC=44.744, Time=0.03 sec\n",
      "\n",
      "Best model:  ARIMA(1,0,0)(0,0,0)[0] intercept\n",
      "Total fit time: 0.740 seconds\n"
     ]
    }
   ],
   "source": [
    "pmarima = pm.auto_arima(y_actual, error_action='ignore', trace=True,\n",
    "                      suppress_warnings=True, maxiter=10,\n",
    "                      seasonal=False, m=12)"
   ]
  },
  {
   "cell_type": "code",
   "execution_count": null,
   "id": "g82faXYBTm9J",
   "metadata": {
    "id": "g82faXYBTm9J"
   },
   "outputs": [],
   "source": [
    "yhat = pmarima.predict( n_periods= 5,typ='levels')"
   ]
  },
  {
   "cell_type": "code",
   "execution_count": null,
   "id": "YI5rXCiYzCrL",
   "metadata": {
    "colab": {
     "base_uri": "https://localhost:8080/",
     "height": 318
    },
    "id": "YI5rXCiYzCrL",
    "outputId": "809a1e69-5fde-4cb4-d06e-d5f60691e2b7"
   },
   "outputs": [
    {
     "data": {
      "text/html": [
       "<div>\n",
       "<style scoped>\n",
       "    .dataframe tbody tr th:only-of-type {\n",
       "        vertical-align: middle;\n",
       "    }\n",
       "\n",
       "    .dataframe tbody tr th {\n",
       "        vertical-align: top;\n",
       "    }\n",
       "\n",
       "    .dataframe thead th {\n",
       "        text-align: right;\n",
       "    }\n",
       "</style>\n",
       "<table border=\"1\" class=\"dataframe\">\n",
       "  <thead>\n",
       "    <tr style=\"text-align: right;\">\n",
       "      <th></th>\n",
       "      <th>year</th>\n",
       "      <th>wph</th>\n",
       "      <th>wdo</th>\n",
       "      <th>wbdo</th>\n",
       "      <th>wec</th>\n",
       "      <th>wna</th>\n",
       "      <th>wco</th>\n",
       "      <th>wqi</th>\n",
       "    </tr>\n",
       "  </thead>\n",
       "  <tbody>\n",
       "    <tr>\n",
       "      <th>0</th>\n",
       "      <td>2012</td>\n",
       "      <td>13.458824</td>\n",
       "      <td>23.967647</td>\n",
       "      <td>19.500000</td>\n",
       "      <td>0.264706</td>\n",
       "      <td>2.657255</td>\n",
       "      <td>11.460392</td>\n",
       "      <td>71.308824</td>\n",
       "    </tr>\n",
       "    <tr>\n",
       "      <th>1</th>\n",
       "      <td>2013</td>\n",
       "      <td>13.750000</td>\n",
       "      <td>24.634333</td>\n",
       "      <td>20.514000</td>\n",
       "      <td>0.405000</td>\n",
       "      <td>2.286667</td>\n",
       "      <td>10.959000</td>\n",
       "      <td>72.549000</td>\n",
       "    </tr>\n",
       "    <tr>\n",
       "      <th>2</th>\n",
       "      <td>2014</td>\n",
       "      <td>12.535849</td>\n",
       "      <td>24.105912</td>\n",
       "      <td>20.868679</td>\n",
       "      <td>0.457358</td>\n",
       "      <td>2.479497</td>\n",
       "      <td>12.123648</td>\n",
       "      <td>72.570943</td>\n",
       "    </tr>\n",
       "    <tr>\n",
       "      <th>3</th>\n",
       "      <td>2015</td>\n",
       "      <td>13.163536</td>\n",
       "      <td>24.622431</td>\n",
       "      <td>20.866077</td>\n",
       "      <td>0.305304</td>\n",
       "      <td>2.490608</td>\n",
       "      <td>12.637238</td>\n",
       "      <td>74.085193</td>\n",
       "    </tr>\n",
       "    <tr>\n",
       "      <th>4</th>\n",
       "      <td>2016</td>\n",
       "      <td>13.129787</td>\n",
       "      <td>25.439468</td>\n",
       "      <td>20.362979</td>\n",
       "      <td>0.423191</td>\n",
       "      <td>2.588511</td>\n",
       "      <td>12.704787</td>\n",
       "      <td>74.648723</td>\n",
       "    </tr>\n",
       "    <tr>\n",
       "      <th>5</th>\n",
       "      <td>2017</td>\n",
       "      <td>14.542857</td>\n",
       "      <td>24.791255</td>\n",
       "      <td>20.198961</td>\n",
       "      <td>0.417662</td>\n",
       "      <td>2.266667</td>\n",
       "      <td>13.429610</td>\n",
       "      <td>75.647013</td>\n",
       "    </tr>\n",
       "    <tr>\n",
       "      <th>6</th>\n",
       "      <td>2018</td>\n",
       "      <td>15.222945</td>\n",
       "      <td>25.482466</td>\n",
       "      <td>21.300411</td>\n",
       "      <td>0.486986</td>\n",
       "      <td>2.368493</td>\n",
       "      <td>14.107740</td>\n",
       "      <td>78.969041</td>\n",
       "    </tr>\n",
       "    <tr>\n",
       "      <th>7</th>\n",
       "      <td>2019</td>\n",
       "      <td>14.186207</td>\n",
       "      <td>24.288736</td>\n",
       "      <td>20.638621</td>\n",
       "      <td>0.466897</td>\n",
       "      <td>2.767816</td>\n",
       "      <td>12.661149</td>\n",
       "      <td>75.009425</td>\n",
       "    </tr>\n",
       "    <tr>\n",
       "      <th>8</th>\n",
       "      <td>2020</td>\n",
       "      <td>14.653086</td>\n",
       "      <td>24.468971</td>\n",
       "      <td>20.838519</td>\n",
       "      <td>0.464444</td>\n",
       "      <td>2.786173</td>\n",
       "      <td>13.668395</td>\n",
       "      <td>76.879588</td>\n",
       "    </tr>\n",
       "  </tbody>\n",
       "</table>\n",
       "</div>"
      ],
      "text/plain": [
       "   year        wph        wdo  ...       wna        wco        wqi\n",
       "0  2012  13.458824  23.967647  ...  2.657255  11.460392  71.308824\n",
       "1  2013  13.750000  24.634333  ...  2.286667  10.959000  72.549000\n",
       "2  2014  12.535849  24.105912  ...  2.479497  12.123648  72.570943\n",
       "3  2015  13.163536  24.622431  ...  2.490608  12.637238  74.085193\n",
       "4  2016  13.129787  25.439468  ...  2.588511  12.704787  74.648723\n",
       "5  2017  14.542857  24.791255  ...  2.266667  13.429610  75.647013\n",
       "6  2018  15.222945  25.482466  ...  2.368493  14.107740  78.969041\n",
       "7  2019  14.186207  24.288736  ...  2.767816  12.661149  75.009425\n",
       "8  2020  14.653086  24.468971  ...  2.786173  13.668395  76.879588\n",
       "\n",
       "[9 rows x 8 columns]"
      ]
     },
     "execution_count": 121,
     "metadata": {
      "tags": []
     },
     "output_type": "execute_result"
    }
   ],
   "source": [
    "df1"
   ]
  },
  {
   "cell_type": "markdown",
   "id": "level-footage",
   "metadata": {},
   "source": [
    "###### Examples of forecast"
   ]
  },
  {
   "cell_type": "markdown",
   "id": "clbJphJ4IGGv",
   "metadata": {
    "id": "clbJphJ4IGGv"
   },
   "source": [
    "PH Forecast"
   ]
  },
  {
   "cell_type": "code",
   "execution_count": null,
   "id": "NHs0jkOCHsW5",
   "metadata": {
    "id": "NHs0jkOCHsW5"
   },
   "outputs": [],
   "source": [
    "wph_np = df1['wph'].to_numpy()"
   ]
  },
  {
   "cell_type": "code",
   "execution_count": null,
   "id": "WikzC8fYHlEu",
   "metadata": {
    "colab": {
     "base_uri": "https://localhost:8080/"
    },
    "id": "WikzC8fYHlEu",
    "outputId": "8a5e133e-2c5a-4627-efd9-086686b54e21"
   },
   "outputs": [
    {
     "name": "stdout",
     "output_type": "stream",
     "text": [
      "Performing stepwise search to minimize aic\n",
      " ARIMA(1,0,1)(0,0,0)[0]             : AIC=41.312, Time=0.03 sec\n",
      " ARIMA(0,0,0)(0,0,0)[0]             : AIC=74.880, Time=0.01 sec\n",
      " ARIMA(1,0,0)(0,0,0)[0]             : AIC=39.367, Time=0.02 sec\n",
      " ARIMA(0,0,1)(0,0,0)[0]             : AIC=67.653, Time=0.02 sec\n",
      " ARIMA(2,0,0)(0,0,0)[0]             : AIC=inf, Time=0.03 sec\n",
      " ARIMA(2,0,1)(0,0,0)[0]             : AIC=65.278, Time=0.03 sec\n",
      " ARIMA(1,0,0)(0,0,0)[0] intercept   : AIC=25.694, Time=0.03 sec\n",
      " ARIMA(0,0,0)(0,0,0)[0] intercept   : AIC=25.896, Time=0.02 sec\n",
      " ARIMA(2,0,0)(0,0,0)[0] intercept   : AIC=27.718, Time=0.04 sec\n",
      " ARIMA(1,0,1)(0,0,0)[0] intercept   : AIC=27.687, Time=0.04 sec\n",
      " ARIMA(0,0,1)(0,0,0)[0] intercept   : AIC=26.291, Time=0.04 sec\n",
      " ARIMA(2,0,1)(0,0,0)[0] intercept   : AIC=29.843, Time=0.06 sec\n",
      "\n",
      "Best model:  ARIMA(1,0,0)(0,0,0)[0] intercept\n",
      "Total fit time: 0.366 seconds\n"
     ]
    }
   ],
   "source": [
    "pmarima = pm.auto_arima(wph_np, error_action='ignore', trace=True,\n",
    "                      suppress_warnings=True, maxiter=10,\n",
    "                      seasonal=False, m=12)"
   ]
  },
  {
   "cell_type": "code",
   "execution_count": null,
   "id": "sGrYi3WJHx47",
   "metadata": {
    "id": "sGrYi3WJHx47"
   },
   "outputs": [],
   "source": [
    "forecast1 = pmarima.predict( n_periods= 5,typ='levels')"
   ]
  },
  {
   "cell_type": "markdown",
   "id": "8bxbPPaIIPoi",
   "metadata": {
    "id": "8bxbPPaIIPoi"
   },
   "source": [
    "DO Forecast"
   ]
  },
  {
   "cell_type": "code",
   "execution_count": null,
   "id": "SQikXkkrIAne",
   "metadata": {
    "id": "SQikXkkrIAne"
   },
   "outputs": [],
   "source": [
    "wdo_np = df1['wdo'].to_numpy()"
   ]
  }
 ],
 "metadata": {
  "colab": {
   "name": "Sub_file1.ipynb",
   "provenance": []
  },
  "kernelspec": {
   "display_name": "Python 3",
   "language": "python",
   "name": "python3"
  },
  "language_info": {
   "codemirror_mode": {
    "name": "ipython",
    "version": 3
   },
   "file_extension": ".py",
   "mimetype": "text/x-python",
   "name": "python",
   "nbconvert_exporter": "python",
   "pygments_lexer": "ipython3",
   "version": "3.8.8"
  }
 },
 "nbformat": 4,
 "nbformat_minor": 5
}
